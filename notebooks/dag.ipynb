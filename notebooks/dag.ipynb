{
 "cells": [
  {
   "cell_type": "code",
   "execution_count": 2,
   "metadata": {},
   "outputs": [],
   "source": [
    "import numpy as np\n",
    "import matplotlib.pyplot as plt\n",
    "from tqdm import *\n",
    "\n",
    "import torch\n",
    "import torch.nn as nn\n",
    "import torch.optim as optim\n",
    "import torch.nn.functional as F\n",
    "from torch.utils.data import DataLoader\n",
    "\n",
    "import torchvision\n",
    "from torchvision import transforms, models\n",
    "from torchvision.datasets import ImageFolder, DatasetFolder\n",
    "\n",
    "from transformers import ViTImageProcessor, ViTForImageClassification"
   ]
  },
  {
   "cell_type": "code",
   "execution_count": 16,
   "metadata": {},
   "outputs": [],
   "source": [
    "class SimpleCNN(nn.Module):\n",
    "    def __init__(self, num_classes=2):\n",
    "        super(SimpleCNN, self).__init__()\n",
    "        self.features = nn.Sequential(\n",
    "            nn.Conv2d(3, 16, kernel_size=3, stride=1, padding=1),\n",
    "            nn.ReLU(inplace=True),\n",
    "            nn.MaxPool2d(kernel_size=2, stride=2),\n",
    "            nn.Conv2d(16, 32, kernel_size=3, stride=1, padding=1),\n",
    "            nn.ReLU(inplace=True),\n",
    "            nn.MaxPool2d(kernel_size=2, stride=2),\n",
    "        )\n",
    "        self.classifier = nn.Linear(32 * 16 * 16, num_classes)\n",
    "\n",
    "    def forward(self, x):\n",
    "        x = self.features(x)\n",
    "        x = x.view(x.size(0), -1)\n",
    "        x = self.classifier(x)\n",
    "        return x"
   ]
  },
  {
   "cell_type": "code",
   "execution_count": 17,
   "metadata": {},
   "outputs": [],
   "source": [
    "model = SimpleCNN()"
   ]
  },
  {
   "cell_type": "code",
   "execution_count": 18,
   "metadata": {},
   "outputs": [],
   "source": [
    "class DataModule:\n",
    "    def __init__(\n",
    "        self,\n",
    "        dataset_path,\n",
    "        transform,\n",
    "        batch_size,\n",
    "        num_workers,\n",
    "    ):\n",
    "        print(dataset_path)\n",
    "\n",
    "        # Create the training dataset\n",
    "        self.dataset = ImageFolder(dataset_path, transform = transform)\n",
    "        \n",
    "        # Split the dataset in 5\n",
    "        self.dataset_list = torch.utils.data.random_split(self.dataset, [0.7, 0.3])\n",
    "\n",
    "        self.batch_size = batch_size\n",
    "        self.num_workers = num_workers\n",
    "    \n",
    "    def val_dataloader_list(self):\n",
    "        \"\"\" Returns the list containing a training DataLoader and a test Dataloader \"\"\"\n",
    "        val_loader_list = [DataLoader(\n",
    "                            x,\n",
    "                            batch_size = self.batch_size,\n",
    "                            shuffle = False,\n",
    "                            num_workers = self.num_workers,\n",
    "                            ) for x in self.dataset_list]\n",
    "        return val_loader_list\n",
    "\n",
    "    def train_dataloader(self, i):\n",
    "        \"\"\"\n",
    "        i: indicates which train set has to be used (i is 0, 1, 2, 3 or 4)\n",
    "\n",
    "        Returns a DataLoader containing 80% of the training set, and the pseudo-labelled images\n",
    "        \"\"\"\n",
    "        self.concat = torch.utils.data.ConcatDataset([self.dataset_list[j] for j in range(5) if j != i]\n",
    "                                                     + [self.pseudo_labelled_dataset])\n",
    "\n",
    "        train_loader = DataLoader(\n",
    "                        self.concat,\n",
    "                        batch_size = self.batch_size,\n",
    "                        shuffle = True,\n",
    "                        num_workers = self.num_workers\n",
    "                        )\n",
    "        \n",
    "        return train_loader"
   ]
  },
  {
   "cell_type": "code",
   "execution_count": 19,
   "metadata": {},
   "outputs": [],
   "source": [
    "batch_size = 16\n",
    "lr = 1e-3\n",
    "epoch = 10"
   ]
  },
  {
   "cell_type": "code",
   "execution_count": 20,
   "metadata": {},
   "outputs": [],
   "source": [
    "dataset_path = \"/Users/pierreaguie/X_AI_Hackathon/data/images/\"\n",
    "transform = transforms.ToTensor()"
   ]
  },
  {
   "cell_type": "code",
   "execution_count": 21,
   "metadata": {},
   "outputs": [
    {
     "name": "stdout",
     "output_type": "stream",
     "text": [
      "/Users/pierreaguie/X_AI_Hackathon/data/images/\n"
     ]
    }
   ],
   "source": [
    "data = DataModule(dataset_path, transform, batch_size, 4)"
   ]
  },
  {
   "cell_type": "code",
   "execution_count": 22,
   "metadata": {},
   "outputs": [],
   "source": [
    "sets = data.val_dataloader_list()\n",
    "training_set, test_set = sets[0], sets[1]"
   ]
  },
  {
   "cell_type": "code",
   "execution_count": 23,
   "metadata": {},
   "outputs": [
    {
     "data": {
      "text/plain": [
       "device(type='cpu')"
      ]
     },
     "execution_count": 23,
     "metadata": {},
     "output_type": "execute_result"
    }
   ],
   "source": [
    "device = torch.device(\"cuda\" if torch.cuda.is_available() else \"cpu\")\n",
    "device"
   ]
  },
  {
   "cell_type": "code",
   "execution_count": 24,
   "metadata": {},
   "outputs": [],
   "source": [
    "def success_rate(model,dataloader):\n",
    "    nb = 0\n",
    "    success = 0\n",
    "    results = []\n",
    "    for i, (input, target) in enumerate(dataloader):\n",
    "        input, target = input.to(device), target.to(device)\n",
    "        with torch.no_grad():\n",
    "          y_pred = model(input)\n",
    "        pred = torch.argmax(y_pred, dim = -1)\n",
    "        for i in range(int(pred.shape[0])):\n",
    "            if pred[i] == target[i]:\n",
    "                success += 1\n",
    "            nb += 1\n",
    "    return success / nb"
   ]
  },
  {
   "cell_type": "code",
   "execution_count": 25,
   "metadata": {},
   "outputs": [],
   "source": [
    "def train(model, device, dataloader, epoch, rate = 1e-4):\n",
    "    \n",
    "    model.to(device)\n",
    "    model.train()\n",
    "\n",
    "    optimizer = torch.optim.SGD(model.parameters(), lr=rate)\n",
    "\n",
    "    loss_fn = nn.CrossEntropyLoss()\n",
    "    train_losses = []\n",
    "    accuracy = []\n",
    "    for t in range(epoch):\n",
    "        for i, (input_data, target) in enumerate(dataloader):\n",
    "\n",
    "            input_data, target = input_data.to(device), target.to(device)\n",
    "\n",
    "            #on calcule la prediction \n",
    "            y_pred = model(input_data)\n",
    "            loss = loss_fn(y_pred, target)\n",
    "            optimizer.zero_grad()\n",
    "            #back propagation\n",
    "            loss.backward()\n",
    "            optimizer.step()\n",
    "        loss_val = loss.detach().item()\n",
    "        print(\"Epoch : \", t , \" | \", loss_val)\n",
    "        train_losses.append(loss_val)\n",
    "        accuracy = success_rate(model, test_set)\n",
    "\n",
    "    return train_losses, accuracy"
   ]
  },
  {
   "cell_type": "code",
   "execution_count": 26,
   "metadata": {},
   "outputs": [
    {
     "name": "stderr",
     "output_type": "stream",
     "text": [
      "100%|██████████| 10/10 [07:31<00:00, 45.15s/it]\n"
     ]
    },
    {
     "data": {
      "text/plain": [
       "([0.7022380828857422,\n",
       "  0.6992009282112122,\n",
       "  0.6957888603210449,\n",
       "  0.6924731731414795,\n",
       "  0.6892526149749756,\n",
       "  0.6861075758934021,\n",
       "  0.6830282211303711,\n",
       "  0.6800026297569275,\n",
       "  0.6770260334014893,\n",
       "  0.6740804314613342],\n",
       " 0.6796875)"
      ]
     },
     "execution_count": 26,
     "metadata": {},
     "output_type": "execute_result"
    }
   ],
   "source": [
    "train(model, device, training_set, epoch, rate = lr)"
   ]
  },
  {
   "cell_type": "code",
   "execution_count": null,
   "metadata": {},
   "outputs": [],
   "source": []
  }
 ],
 "metadata": {
  "kernelspec": {
   "display_name": "base",
   "language": "python",
   "name": "python3"
  },
  "language_info": {
   "codemirror_mode": {
    "name": "ipython",
    "version": 3
   },
   "file_extension": ".py",
   "mimetype": "text/x-python",
   "name": "python",
   "nbconvert_exporter": "python",
   "pygments_lexer": "ipython3",
   "version": "3.9.7"
  },
  "orig_nbformat": 4
 },
 "nbformat": 4,
 "nbformat_minor": 2
}
